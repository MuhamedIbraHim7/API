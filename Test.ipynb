{
 "cells": [
  {
   "cell_type": "code",
   "execution_count": 1,
   "id": "7d74b19f",
   "metadata": {},
   "outputs": [
    {
     "name": "stderr",
     "output_type": "stream",
     "text": [
      "C:\\Users\\Mohamed Gad\\anaconda3\\lib\\site-packages\\tensorflow_addons\\utils\\tfa_eol_msg.py:23: UserWarning: \n",
      "\n",
      "TensorFlow Addons (TFA) has ended development and introduction of new features.\n",
      "TFA has entered a minimal maintenance and release mode until a planned end of life in May 2024.\n",
      "Please modify downstream libraries to take dependencies from other repositories in our TensorFlow community (e.g. Keras, Keras-CV, and Keras-NLP). \n",
      "\n",
      "For more information see: https://github.com/tensorflow/addons/issues/2807 \n",
      "\n",
      "  warnings.warn(\n"
     ]
    }
   ],
   "source": [
    "import tensorflow as tf\n",
    "from tensorflow.keras.applications import EfficientNetB0, EfficientNetB3, EfficientNetB4\n",
    "from tensorflow_addons.metrics import F1Score\n",
    "# Load the model\n",
    "model = tf.keras.models.load_model('best_model.h5', custom_objects={'FixedDropout': tf.keras.layers.Dropout, 'Addons>F1Score': F1Score})\n",
    "\n"
   ]
  },
  {
   "cell_type": "code",
   "execution_count": 2,
   "id": "12d71f3d",
   "metadata": {},
   "outputs": [],
   "source": [
    "classes = ['healthy apple',\n",
    " 'healthy bell pepper',\n",
    " 'healthy corn (maize)',\n",
    " 'healthy grape',\n",
    " 'healthy potato',\n",
    " 'unhealthy apple',\n",
    " 'unhealthy bell pepper',\n",
    " 'unhealthy corn (maize)',\n",
    " 'unhealthy grape',\n",
    " 'unhealthy potato']"
   ]
  },
  {
   "cell_type": "code",
   "execution_count": 3,
   "id": "71abf16c",
   "metadata": {},
   "outputs": [],
   "source": [
    "from tensorflow.keras.utils import load_img\n",
    "from tensorflow.keras.utils import img_to_array\n",
    "test_image = load_img(r'C:\\Users\\Mohamed Gad\\OneDrive\\Desktop\\New Model\\Data\\Mini Test\\a.JPG', target_size=(224, 224))\n",
    "test_image = img_to_array(test_image)\n",
    "test_image = test_image / 255.0\n",
    "test_image = test_image.reshape(1, 224, 224, 3) # add a batch dimension\n"
   ]
  },
  {
   "cell_type": "code",
   "execution_count": 4,
   "id": "e90d37f9",
   "metadata": {},
   "outputs": [
    {
     "name": "stdout",
     "output_type": "stream",
     "text": [
      "1/1 [==============================] - 1s 1s/step\n"
     ]
    }
   ],
   "source": [
    "prediction = model.predict(test_image)\n"
   ]
  },
  {
   "cell_type": "code",
   "execution_count": 5,
   "id": "1932c412",
   "metadata": {},
   "outputs": [
    {
     "name": "stdout",
     "output_type": "stream",
     "text": [
      "The predicted class is:  unhealthy grape\n"
     ]
    }
   ],
   "source": [
    "import numpy as np\n",
    "predicted_class = np.argmax(prediction)\n",
    "print(f'The predicted class is:  {classes[predicted_class]}')"
   ]
  }
 ],
 "metadata": {
  "language_info": {
   "codemirror_mode": {
    "name": "ipython",
    "version": 3
   },
   "file_extension": ".py",
   "mimetype": "text/x-python",
   "name": "python",
   "nbconvert_exporter": "python",
   "pygments_lexer": "ipython3",
   "version": "3.9.12"
  }
 },
 "nbformat": 4,
 "nbformat_minor": 5
}
